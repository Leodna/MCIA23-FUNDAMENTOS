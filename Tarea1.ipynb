{
 "cells": [
  {
   "cell_type": "code",
   "execution_count": 2,
   "metadata": {},
   "outputs": [
    {
     "name": "stdout",
     "output_type": "stream",
     "text": [
      "El paquete tiene 8 payasitos y 12 munecas\n",
      "El paquete pesara 1796 g\n"
     ]
    }
   ],
   "source": [
    "payaso = 112\n",
    "muneca = 75\n",
    "\n",
    "cantidad_p = int(input('Cuantos payasos pidieron: '))\n",
    "cantidad_m = int(input('Cuantas munecas pidieron: '))\n",
    "\n",
    "peso_paquete = (cantidad_p*payaso) + (cantidad_m*muneca)\n",
    "print ('El paquete tiene {} payasitos y {} munecas'.format(cantidad_p,cantidad_m))\n",
    "print ('El paquete pesara {} g'.format(peso_paquete))"
   ]
  },
  {
   "cell_type": "code",
   "execution_count": 3,
   "metadata": {},
   "outputs": [
    {
     "name": "stdout",
     "output_type": "stream",
     "text": [
      "Su antiguo correo: leonardo.villanueva@gmail.com\n",
      "Su nuevo correo sera: leonardo.villanueva@alumnos.uaq.mx\n"
     ]
    }
   ],
   "source": [
    "#Ejercicio 2\n",
    "dominio = '@alumnos.uaq.mx'\n",
    "correo = input('Ingrese su correo: ')\n",
    "while '@' not in correo:\n",
    "    print ('Correo no valido')\n",
    "    correo =input('Ingrese un correo valido: ')\n",
    "\n",
    "c = correo.split('@')\n",
    "print('Su antiguo correo: {}'.format(correo))\n",
    "print ('Su nuevo correo sera: {}'.format(c[0]+dominio))"
   ]
  },
  {
   "cell_type": "code",
   "execution_count": 6,
   "metadata": {},
   "outputs": [
    {
     "name": "stdout",
     "output_type": "stream",
     "text": [
      "Para una renta de 38560.0\n",
      "Le corresponde un impositivo de 30%\n"
     ]
    }
   ],
   "source": [
    "renta_actual = float(input('Cuanto paga actualmente de renta'))\n",
    "print('Para una renta de {}'.format(renta_actual))\n",
    "if renta_actual < 10000:\n",
    "    print ('Le corresponde un impositivo de 5%')\n",
    "elif renta_actual >= 10000 and renta_actual < 20000:\n",
    "    print ('Le corresponde un impositivo de 15%')\n",
    "elif renta_actual >= 20000 and renta_actual < 35000:\n",
    "    print ('Le corresponde un impositivo de 20%')\n",
    "elif renta_actual >= 35000 and renta_actual < 60000:\n",
    "    print ('Le corresponde un impositivo de 30%')\n",
    "else:\n",
    "    print ('Le corresponde un impositivo de 45%')\n"
   ]
  },
  {
   "cell_type": "code",
   "execution_count": 8,
   "metadata": {},
   "outputs": [
    {
     "name": "stdout",
     "output_type": "stream",
     "text": [
      "asdfasdfadsf es una contrasena Incorrecta xxxxxx\n",
      "123asdfaeq3f es una contrasena Incorrecta xxxxxx\n",
      "12444455 es una contrasena Incorrecta xxxxxx\n",
      "Contrsena correcta !!!!\n"
     ]
    }
   ],
   "source": [
    "contrasena = '123'\n",
    "\n",
    "while True:\n",
    "    _contrasena = input('Introduzca la contrsena: ')\n",
    "    if contrasena == _contrasena:\n",
    "        print('Contrsena correcta !!!!')\n",
    "        break\n",
    "    else:\n",
    "        print('{} es una contrasena Incorrecta xxxxxx'.format(_contrasena))"
   ]
  },
  {
   "cell_type": "code",
   "execution_count": 36,
   "metadata": {},
   "outputs": [
    {
     "name": "stdout",
     "output_type": "stream",
     "text": [
      "a\n",
      "d\n",
      "g\n",
      "k\n",
      "n\n",
      "p\n",
      "s\n",
      "v\n",
      "z\n"
     ]
    }
   ],
   "source": [
    "abc = 'abcdefghiklmnñopqrstuvxyz'\n",
    "labc = list(abc) \n",
    "for x in range(len(labc)):\n",
    "    if x%3 == 0:\n",
    "        print (labc[x])"
   ]
  },
  {
   "cell_type": "code",
   "execution_count": 9,
   "metadata": {},
   "outputs": [],
   "source": [
    "carrito = {}\n",
    "while True:\n",
    "    articulo = input('Agrege un articulo: ')\n",
    "    precio =float( input ('Cual es el precio de {}: $'.format(articulo)) )\n",
    "    carrito.update({articulo:precio})\n",
    "    continuar = input('Si desea agregar mas articulos oprima y/s')[0]\n",
    "    if not (continuar == 'y' or continuar == 's'):\n",
    "        break"
   ]
  },
  {
   "cell_type": "code",
   "execution_count": 11,
   "metadata": {},
   "outputs": [
    {
     "name": "stdout",
     "output_type": "stream",
     "text": [
      "Lista de Compras\n",
      "| Agua | 10.5 |\n",
      "| Sprite | 16.5 |\n",
      "| Frijoles Isadora | 25.0 |\n",
      "| Leche | 20.0 |\n",
      "| Total | 72.0 |\n"
     ]
    }
   ],
   "source": [
    "\n",
    "print('Lista de Compras')\n",
    "total = 0.0\n",
    "for articulo in carrito:\n",
    "    print ('| {} | {} |'.format(articulo,carrito[articulo]))\n",
    "    total += carrito[articulo]\n",
    "print ('| Total | {} |'.format(total))\n"
   ]
  },
  {
   "cell_type": "code",
   "execution_count": 60,
   "metadata": {},
   "outputs": [
    {
     "name": "stdout",
     "output_type": "stream",
     "text": [
      "{'media': 41.43, 'varianza': 833.39, 'desviacion': 28.87}\n"
     ]
    }
   ],
   "source": [
    "\n",
    "import math\n",
    "def estadistica (datos):\n",
    "    media = sum(datos)/len(datos)\n",
    "    varianza = 0.0\n",
    "    for dato in datos:\n",
    "        varianza += (dato-media)*(dato-media)\n",
    "    varianza = varianza / len(datos)\n",
    "    desviacion = math.sqrt(varianza)\n",
    "    resultados = {\n",
    "        'media': round(media,2),\n",
    "        'varianza':round(varianza,2),\n",
    "        'desviacion':round(desviacion,2)\n",
    "\n",
    "    }    \n",
    "    return resultados\n",
    "\n",
    "a = [23,45,12,10,55,100,45]\n",
    "print (estadistica(a))"
   ]
  }
 ],
 "metadata": {
  "kernelspec": {
   "display_name": "base",
   "language": "python",
   "name": "python3"
  },
  "language_info": {
   "codemirror_mode": {
    "name": "ipython",
    "version": 3
   },
   "file_extension": ".py",
   "mimetype": "text/x-python",
   "name": "python",
   "nbconvert_exporter": "python",
   "pygments_lexer": "ipython3",
   "version": "3.10.1"
  },
  "orig_nbformat": 4
 },
 "nbformat": 4,
 "nbformat_minor": 2
}

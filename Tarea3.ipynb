{
 "cells": [
  {
   "cell_type": "code",
   "execution_count": 43,
   "metadata": {},
   "outputs": [],
   "source": [
    "def suma_lista(lista):\n",
    "    if lista == []:\n",
    "        return 0\n",
    "    else:\n",
    "        return lista[-1]+suma_lista(lista[:-1])"
   ]
  },
  {
   "cell_type": "code",
   "execution_count": 44,
   "metadata": {},
   "outputs": [
    {
     "name": "stdout",
     "output_type": "stream",
     "text": [
      "34\n"
     ]
    }
   ],
   "source": [
    "l = [10,9,8,7]\n",
    "print (suma_lista(l))"
   ]
  },
  {
   "cell_type": "code",
   "execution_count": 49,
   "metadata": {},
   "outputs": [],
   "source": [
    "def invertir_lista(lista):\n",
    "    if lista == []:\n",
    "        return []\n",
    "    else:                \n",
    "        return [lista[-1]] + invertir_lista(lista[:-1])"
   ]
  },
  {
   "cell_type": "code",
   "execution_count": 51,
   "metadata": {},
   "outputs": [
    {
     "name": "stdout",
     "output_type": "stream",
     "text": [
      "[10, 9, 8, 7, 12]\n",
      "[7, 8, 9, 10]\n"
     ]
    }
   ],
   "source": [
    "il = invertir_lista(l)\n",
    "print (l)\n",
    "print (il)"
   ]
  },
  {
   "cell_type": "code",
   "execution_count": 69,
   "metadata": {},
   "outputs": [],
   "source": [
    "def dec_bin(n):\n",
    "    if n == 1:\n",
    "        return \"1\"\n",
    "    else:        \n",
    "        return dec_bin(n//2)+\"{}\".format(n%2)\n"
   ]
  },
  {
   "cell_type": "code",
   "execution_count": 79,
   "metadata": {},
   "outputs": [
    {
     "name": "stdout",
     "output_type": "stream",
     "text": [
      "1010\n"
     ]
    }
   ],
   "source": [
    "print (dec_bin(10))"
   ]
  },
  {
   "cell_type": "code",
   "execution_count": 121,
   "metadata": {},
   "outputs": [],
   "source": [
    "def bin_dec (n):\n",
    "    if len(n)-1 == 0:        \n",
    "        return int(n) * 2**0\n",
    "    else:    \n",
    "        p = len(n)-1\n",
    "        return int(n[0]) * (2**p) + bin_dec(n[1:])\n"
   ]
  },
  {
   "cell_type": "code",
   "execution_count": 123,
   "metadata": {},
   "outputs": [
    {
     "data": {
      "text/plain": [
       "10"
      ]
     },
     "execution_count": 123,
     "metadata": {},
     "output_type": "execute_result"
    }
   ],
   "source": [
    "n = \"1010\"\n",
    "#print (len(str(n))-1)\n",
    "bin_dec(n)"
   ]
  }
 ],
 "metadata": {
  "kernelspec": {
   "display_name": "base",
   "language": "python",
   "name": "python3"
  },
  "language_info": {
   "codemirror_mode": {
    "name": "ipython",
    "version": 3
   },
   "file_extension": ".py",
   "mimetype": "text/x-python",
   "name": "python",
   "nbconvert_exporter": "python",
   "pygments_lexer": "ipython3",
   "version": "3.11.3"
  },
  "orig_nbformat": 4
 },
 "nbformat": 4,
 "nbformat_minor": 2
}

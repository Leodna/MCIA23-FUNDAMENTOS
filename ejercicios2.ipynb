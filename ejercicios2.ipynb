{
 "cells": [
  {
   "cell_type": "code",
   "execution_count": null,
   "metadata": {},
   "outputs": [],
   "source": []
  },
  {
   "cell_type": "code",
   "execution_count": 3,
   "metadata": {},
   "outputs": [],
   "source": [
    "class Nodo:\n",
    "    def __init__(self,valor):        \n",
    "        self.valor = valor\n",
    "        self.siguiente = None\n"
   ]
  },
  {
   "cell_type": "code",
   "execution_count": 18,
   "metadata": {},
   "outputs": [],
   "source": [
    "class Lista :\n",
    "    def __init__(self,cabeza):\n",
    "        self.cabeza = Nodo(cabeza)\n",
    "    \n",
    "    def insertarPrimero(self,valor):\n",
    "        n = Nodo(valor)\n",
    "        if self.cabeza == None:\n",
    "            self.cabeza = n\n",
    "        else:\n",
    "            c1 = self.cabeza\n",
    "            self.cabeza = n\n",
    "            n.siguiente = c1\n",
    "    def insertarAntes(self,valora,valorb):\n",
    "        print (2)                \n",
    "\n",
    "    \n",
    "    def recorrer(self):\n",
    "        n = self.cabeza\n",
    "        while n != None:\n",
    "            print (n.valor)\n",
    "            n = n.siguiente\n",
    "\n",
    "    "
   ]
  },
  {
   "cell_type": "code",
   "execution_count": 21,
   "metadata": {},
   "outputs": [],
   "source": [
    "a = 10\n",
    "lis = Lista(10)\n",
    "lis.insertarPrimero(9)\n",
    "lis.insertarPrimero(8)"
   ]
  },
  {
   "cell_type": "code",
   "execution_count": 22,
   "metadata": {},
   "outputs": [
    {
     "name": "stdout",
     "output_type": "stream",
     "text": [
      "8\n",
      "9\n",
      "10\n"
     ]
    }
   ],
   "source": [
    "lis.recorrer()"
   ]
  }
 ],
 "metadata": {
  "kernelspec": {
   "display_name": "base",
   "language": "python",
   "name": "python3"
  },
  "language_info": {
   "codemirror_mode": {
    "name": "ipython",
    "version": 3
   },
   "file_extension": ".py",
   "mimetype": "text/x-python",
   "name": "python",
   "nbconvert_exporter": "python",
   "pygments_lexer": "ipython3",
   "version": "3.11.3"
  },
  "orig_nbformat": 4
 },
 "nbformat": 4,
 "nbformat_minor": 2
}

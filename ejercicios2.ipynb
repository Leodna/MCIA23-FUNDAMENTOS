{
 "cells": [
  {
   "cell_type": "code",
   "execution_count": 3,
   "metadata": {},
   "outputs": [],
   "source": [
    "from collections import deque\n",
    "\n",
    "class Pila:\n",
    "    def __init__(self):\n",
    "        self.items = deque()\n",
    "\n",
    "    def esta_vacia(self):\n",
    "        return len(self.items) == 0\n",
    "\n",
    "    def apilar(self, item):\n",
    "        self.items.append(item)\n",
    "\n",
    "    def desapilar(self):\n",
    "        if not self.esta_vacia():\n",
    "            return self.items.pop()\n",
    "\n",
    "    def cima(self):\n",
    "        if not self.esta_vacia():\n",
    "            return self.items[-1]\n",
    "\n",
    "    def tamano(self):\n",
    "        return len(self.items)\n"
   ]
  },
  {
   "cell_type": "code",
   "execution_count": 6,
   "metadata": {},
   "outputs": [
    {
     "data": {
      "text/plain": [
       "1"
      ]
     },
     "execution_count": 6,
     "metadata": {},
     "output_type": "execute_result"
    }
   ],
   "source": [
    "p = Pila()\n",
    "p.apilar(14)\n",
    "p.apilar(8)\n",
    "p.apilar(10)\n",
    "p.apilar(5)\n",
    "p.apilar(1)\n"
   ]
  },
  {
   "cell_type": "code",
   "execution_count": 8,
   "metadata": {},
   "outputs": [],
   "source": [
    "def noname(p):\n",
    "    a = Pila()\n",
    "    x = p.desapilar()\n",
    "    a.apilar(p.desapilar())\n",
    "    y = p.desapilar()\n",
    "    p.apilar(x)\n",
    "    p.apilar(y)\n",
    "    p.apilar(a.desapilar())"
   ]
  },
  {
   "cell_type": "code",
   "execution_count": 9,
   "metadata": {},
   "outputs": [],
   "source": [
    "noname(p)"
   ]
  },
  {
   "cell_type": "code",
   "execution_count": 14,
   "metadata": {},
   "outputs": [],
   "source": [
    "while not (p.esta_vacia):\n",
    "    print (p.desapilar())"
   ]
  },
  {
   "cell_type": "code",
   "execution_count": 3,
   "metadata": {},
   "outputs": [],
   "source": [
    "class Nodo:\n",
    "    def __init__(self,valor):        \n",
    "        self.valor = valor\n",
    "        self.siguiente = None\n"
   ]
  },
  {
   "cell_type": "code",
   "execution_count": 18,
   "metadata": {},
   "outputs": [],
   "source": [
    "class Lista :\n",
    "    def __init__(self,cabeza):\n",
    "        self.cabeza = Nodo(cabeza)\n",
    "    \n",
    "    def insertarPrimero(self,valor):\n",
    "        n = Nodo(valor)\n",
    "        if self.cabeza == None:\n",
    "            self.cabeza = n\n",
    "        else:\n",
    "            c1 = self.cabeza\n",
    "            self.cabeza = n\n",
    "            n.siguiente = c1\n",
    "    def insertarAntes(self,valora,valorb):\n",
    "        print (2)                \n",
    "\n",
    "    \n",
    "    def recorrer(self):\n",
    "        n = self.cabeza\n",
    "        while n != None:\n",
    "            print (n.valor)\n",
    "            n = n.siguiente\n",
    "\n",
    "    "
   ]
  },
  {
   "cell_type": "code",
   "execution_count": 21,
   "metadata": {},
   "outputs": [],
   "source": [
    "a = 10\n",
    "lis = Lista(10)\n",
    "lis.insertarPrimero(9)\n",
    "lis.insertarPrimero(8)"
   ]
  },
  {
   "cell_type": "code",
   "execution_count": 22,
   "metadata": {},
   "outputs": [
    {
     "name": "stdout",
     "output_type": "stream",
     "text": [
      "8\n",
      "9\n",
      "10\n"
     ]
    }
   ],
   "source": [
    "lis.recorrer()"
   ]
  }
 ],
 "metadata": {
  "kernelspec": {
   "display_name": "base",
   "language": "python",
   "name": "python3"
  },
  "language_info": {
   "codemirror_mode": {
    "name": "ipython",
    "version": 3
   },
   "file_extension": ".py",
   "mimetype": "text/x-python",
   "name": "python",
   "nbconvert_exporter": "python",
   "pygments_lexer": "ipython3",
   "version": "3.11.3"
  },
  "orig_nbformat": 4
 },
 "nbformat": 4,
 "nbformat_minor": 2
}

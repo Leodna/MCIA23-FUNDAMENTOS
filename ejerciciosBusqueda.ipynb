{
 "cells": [
  {
   "cell_type": "markdown",
   "metadata": {},
   "source": [
    "Escribir una funcion que reciba una lista desorneda de elementos.\n",
    "\n",
    "a) Busque todos los elementos que coincidan con el pasado por parametros y devuelva la cantidad de coinsidencias encontradas\n",
    "\n",
    "b) Busque la primera coincidencia del elemento de la lista y devuelva su posición\n",
    "\n",
    "c) Utilizando la función anterior busque todos los elementos que coincidan con el pasado por parametros y devuelva una lista con las posciciones\n"
   ]
  },
  {
   "cell_type": "code",
   "execution_count": 6,
   "metadata": {},
   "outputs": [],
   "source": [
    "def buscar_coincidencias(elemento,lista):\n",
    "    coincidencias = 0\n",
    "    for e in lista:\n",
    "        if e  == elemento:\n",
    "            coincidencias += 1\n",
    "    return coincidencias"
   ]
  },
  {
   "cell_type": "code",
   "execution_count": 11,
   "metadata": {},
   "outputs": [],
   "source": [
    "def get_primer_index (elemento,lista):\n",
    "    for e in range(len(lista)):\n",
    "        if lista[e] == elemento:\n",
    "            return e\n",
    "    return"
   ]
  },
  {
   "cell_type": "code",
   "execution_count": 14,
   "metadata": {},
   "outputs": [],
   "source": [
    "def get_indices (elemento,lista):\n",
    "    indices = []\n",
    "    for e in range(len(lista)):\n",
    "        if lista[e] == elemento:\n",
    "            indices.append(e)            \n",
    "    return indices"
   ]
  },
  {
   "cell_type": "code",
   "execution_count": 7,
   "metadata": {},
   "outputs": [
    {
     "data": {
      "text/plain": [
       "2"
      ]
     },
     "execution_count": 7,
     "metadata": {},
     "output_type": "execute_result"
    }
   ],
   "source": [
    "a = [7,3,2,9,10,4,4,5,7]\n",
    "\n",
    "buscar_coincidencias(7,a)"
   ]
  },
  {
   "cell_type": "code",
   "execution_count": 12,
   "metadata": {},
   "outputs": [
    {
     "data": {
      "text/plain": [
       "0"
      ]
     },
     "execution_count": 12,
     "metadata": {},
     "output_type": "execute_result"
    }
   ],
   "source": [
    "get_primer_index(7,a)"
   ]
  },
  {
   "cell_type": "code",
   "execution_count": 15,
   "metadata": {},
   "outputs": [
    {
     "data": {
      "text/plain": [
       "[0, 8]"
      ]
     },
     "execution_count": 15,
     "metadata": {},
     "output_type": "execute_result"
    }
   ],
   "source": [
    "get_indices(7,a)"
   ]
  },
  {
   "cell_type": "markdown",
   "metadata": {},
   "source": [
    "Escribir una función que reciba una cadena a buscar y una lista de tuplas (nombre_completo,telefono) y busque dentro de la lista todas las entradas que contengan en el nombre completo de la cadena recida"
   ]
  },
  {
   "cell_type": "code",
   "execution_count": 21,
   "metadata": {},
   "outputs": [
    {
     "name": "stdout",
     "output_type": "stream",
     "text": [
      "[('n1 a1', 't1'), ('n4 a1', 't4')]\n"
     ]
    }
   ],
   "source": [
    "lista = [('n1 a1','t1'),('n2 a2','t2'),('n3 a3','t3'),('n4 a1','t4')]\n",
    "cadena = \"1\"\n",
    "coincidencias = []\n",
    "for l in lista:\n",
    "    if  cadena in l[0]:\n",
    "        coincidencias.append(l)\n",
    "\n",
    "print (coincidencias)"
   ]
  },
  {
   "cell_type": "markdown",
   "metadata": {},
   "source": [
    "Escribir una función que reciba una lista ordenada y un elemento, si el elemento se encuentra en a lista, debe encontrar su posición, implemente busqueda binaria y devolverlo. Si no se encuentra debe agregarlo a la lista en la posición correcta y devolver esa nueva posicion"
   ]
  },
  {
   "cell_type": "code",
   "execution_count": 7,
   "metadata": {},
   "outputs": [],
   "source": [
    "lista = [1,2,34,0,100,45]\n",
    "lista.sort()"
   ]
  },
  {
   "cell_type": "code",
   "execution_count": 46,
   "metadata": {},
   "outputs": [],
   "source": [
    "def búsqueda_binaria(L, item):\n",
    "    primero = 0\n",
    "    ultimo = len(L) - 1\n",
    "    encontrado = False\n",
    "    while primero <= ultimo and not encontrado:\n",
    "        punto_medio = (primero + ultimo)//2\n",
    "        if L[punto_medio] == item:\n",
    "            encontrado = True\n",
    "\n",
    "        else:\n",
    "\n",
    "            if item < L[punto_medio]:\n",
    "\n",
    "                ultimo = punto_medio - 1\n",
    "\n",
    "            else:\n",
    "\n",
    "                primero = punto_medio + 1\n",
    "\n",
    "    return encontrado"
   ]
  },
  {
   "cell_type": "code",
   "execution_count": 26,
   "metadata": {},
   "outputs": [],
   "source": [
    "def busqueda_binaria(elemento,lista,inicio=0):    \n",
    "    if not lista:\n",
    "        print (\"El elemento {}  no se encuentra en la lista\".format(elemento))\n",
    "        return -1\n",
    "    \n",
    "    mitad = len(lista)//2    \n",
    "    \n",
    "    if elemento == lista[mitad]:\n",
    "        return inicio + mitad\n",
    "    elif elemento < lista[mitad]:                \n",
    "        return busqueda_binaria(elemento, lista[:mitad],inicio)\n",
    "    else:\n",
    "        return busqueda_binaria(elemento, lista[mitad+1:],inicio+mitad+1)        "
   ]
  },
  {
   "cell_type": "code",
   "execution_count": 28,
   "metadata": {},
   "outputs": [
    {
     "data": {
      "text/plain": [
       "0"
      ]
     },
     "execution_count": 28,
     "metadata": {},
     "output_type": "execute_result"
    }
   ],
   "source": [
    "lista[busqueda_binaria(0,lista)]"
   ]
  }
 ],
 "metadata": {
  "kernelspec": {
   "display_name": "base",
   "language": "python",
   "name": "python3"
  },
  "language_info": {
   "codemirror_mode": {
    "name": "ipython",
    "version": 3
   },
   "file_extension": ".py",
   "mimetype": "text/x-python",
   "name": "python",
   "nbconvert_exporter": "python",
   "pygments_lexer": "ipython3",
   "version": "3.11.3"
  },
  "orig_nbformat": 4
 },
 "nbformat": 4,
 "nbformat_minor": 2
}

{
 "cells": [
  {
   "cell_type": "markdown",
   "metadata": {},
   "source": [
    "# Unidad 1: Estructura de datos básicas\n",
    "\n",
    "### Algoritmos\n",
    "Es  un conjunto de reglas para cumplir con un proposito tiene las siguientes caracteristicas\n",
    "* Finitud\n",
    "* Definincion\n",
    "* Entrad\n",
    "* Salida\n",
    "* Efectividad\n",
    "Para medir la efectividad de un algoritmo se toma en cuenta\n",
    "1. Espacio\n",
    "2. Tiempo\n",
    "    1. Medida real (a posteriori).\n",
    "    2. Medida teórica (a prior) con  un función que acote (superior o inferior) el tiempo de ejecuución.\n",
    "\n",
    "A la cota superior *no es estricta >=* se le denomina como 'O' mayuscula ***O (n)***\n",
    "\n",
    "A la cota inferior es una cota estricta se le denomina como 'o' minuscula ***< o(n)***\n",
    "\n",
    "También existe una cota exacta.\n",
    "\n",
    "## Reglas para el cálculo de las cotas\n",
    "**Regla 1** \n",
    "\n",
    "**Regla 2** El tiempo requerido para l ejeución de un algoritmo de secuencia lienal es la sumatoria de los tiempos de cada instrucción\n",
    "\n",
    "**Regla 3** El tiempo requerido para la ejecucción de una isntrucción condicionall if C then l1 l2, es la usma de tiepo necesario para evaular la expresión más el máximo de ejecución de los bloques aosicaos a las rama then y else\n",
    "T = T(C) + Max(T(l1),T(l2))\n",
    "Se aplica la regla de la usma, de modo que se calcula el tiemo de ejecución toamndo el máximo de los tiemo de ejecución omando el máximo de los tiemo de ejecuci´n de cada una de las partes, (sentincias individuales) em que puede dividirse.\n",
    "\n",
    "Regla 4 El tiempo requirdo para e jecución de una istrucción repetitiva while do 1 , es la suma del tiempo necesario para la evauación de la expresión C + el número de itercaiones multiplicando...\n",
    "\n",
    "\n",
    "Si son sentencias siples valen 0(1) 0(n) y se toma el valor maximo\n",
    "\n",
    "Si son operaciones anindadas se multiplica O(n^2)"
   ]
  },
  {
   "cell_type": "markdown",
   "metadata": {},
   "source": [
    "## Listas enlazadas"
   ]
  },
  {
   "cell_type": "markdown",
   "metadata": {},
   "source": [
    "## Pilas"
   ]
  },
  {
   "cell_type": "markdown",
   "metadata": {},
   "source": [
    "## Colas"
   ]
  },
  {
   "cell_type": "markdown",
   "metadata": {},
   "source": []
  }
 ],
 "metadata": {
  "language_info": {
   "name": "python"
  },
  "orig_nbformat": 4
 },
 "nbformat": 4,
 "nbformat_minor": 2
}
